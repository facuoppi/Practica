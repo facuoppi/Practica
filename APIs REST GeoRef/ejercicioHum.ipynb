{
 "cells": [
  {
   "cell_type": "code",
   "execution_count": 12,
   "metadata": {},
   "outputs": [],
   "source": [
    "import requests"
   ]
  },
  {
   "cell_type": "markdown",
   "metadata": {},
   "source": [
    "Ejercicio: crea una lista ordenada alfabéticamente con tuplas que contengan id y nombre de cada provincia utilizando la APIs REST georef."
   ]
  },
  {
   "cell_type": "code",
   "execution_count": 13,
   "metadata": {},
   "outputs": [],
   "source": [
    "# Realizo petición GET de la APIs para obtener la información\n",
    "response = requests.get(\"https://apis.datos.gob.ar/georef/api/provincias\")"
   ]
  },
  {
   "cell_type": "code",
   "execution_count": 18,
   "metadata": {},
   "outputs": [],
   "source": [
    "# Transformo la información obtenida a formato JSON para asi poder manipular esta data como si fuera un diccionario\n",
    "provincias = response.json()"
   ]
  },
  {
   "cell_type": "code",
   "execution_count": 15,
   "metadata": {},
   "outputs": [],
   "source": [
    "# Obtengo lista de tuplas formadas por id-nombre de las provincias (SIN ordenar)\n",
    "lista = []\n",
    "x = len(provincias['provincias'])\n",
    "\n",
    "for i in range(x):\n",
    "    lista.append((provincias['provincias'][i]['id'], provincias['provincias'][i]['nombre']))"
   ]
  },
  {
   "cell_type": "code",
   "execution_count": 16,
   "metadata": {},
   "outputs": [],
   "source": [
    "# Ordeno lista de tuplas de forma alfebetica (Utilizando bubble-sort)\n",
    "\n",
    "x = len(lista) - 1\n",
    "for i in range(x):                                  # Utilizo este buscle solo para ir recorriendo la lista\n",
    "    for j in range(x):                                  # y a este bucle lo utilizo para realizar comparaciones y cambios\n",
    "        if (lista[j][1] > lista[j + 1][1]):\n",
    "            aux = lista[j]\n",
    "            lista[j], lista[j + 1] = lista[j + 1], aux\n"
   ]
  },
  {
   "cell_type": "code",
   "execution_count": 17,
   "metadata": {},
   "outputs": [
    {
     "name": "stdout",
     "output_type": "stream",
     "text": [
      "[('06', 'Buenos Aires'), ('10', 'Catamarca'), ('22', 'Chaco'), ('26', 'Chubut'), ('02', 'Ciudad Autónoma de Buenos Aires'), ('18', 'Corrientes'), ('14', 'Córdoba'), ('30', 'Entre Ríos'), ('34', 'Formosa'), ('38', 'Jujuy'), ('42', 'La Pampa'), ('46', 'La Rioja'), ('50', 'Mendoza'), ('54', 'Misiones'), ('58', 'Neuquén'), ('62', 'Río Negro'), ('66', 'Salta'), ('70', 'San Juan'), ('74', 'San Luis'), ('78', 'Santa Cruz'), ('82', 'Santa Fe'), ('86', 'Santiago del Estero'), ('94', 'Tierra del Fuego, Antártida e Islas del Atlántico Sur'), ('90', 'Tucumán')]\n"
     ]
    }
   ],
   "source": [
    "print(lista)"
   ]
  }
 ],
 "metadata": {
  "interpreter": {
   "hash": "f8ca15d83b6fb72cece3edcf60f6aa40d2cbdeb5c60e0f188ff8c7c65828fd00"
  },
  "kernelspec": {
   "display_name": "Python 3.10.4 64-bit (windows store)",
   "language": "python",
   "name": "python3"
  },
  "language_info": {
   "codemirror_mode": {
    "name": "ipython",
    "version": 3
   },
   "file_extension": ".py",
   "mimetype": "text/x-python",
   "name": "python",
   "nbconvert_exporter": "python",
   "pygments_lexer": "ipython3",
   "version": "3.10.4"
  },
  "orig_nbformat": 4
 },
 "nbformat": 4,
 "nbformat_minor": 2
}
