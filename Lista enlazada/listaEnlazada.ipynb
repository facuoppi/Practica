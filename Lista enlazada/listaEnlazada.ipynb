{
 "cells": [
  {
   "cell_type": "code",
   "execution_count": 1,
   "metadata": {},
   "outputs": [],
   "source": [
    "class Node:\n",
    "    def __init__(self, valor):\n",
    "        self.valor = valor\n",
    "        self.next = None\n",
    "\n",
    "    def __str__(self):\n",
    "        return str(self.valor)"
   ]
  },
  {
   "cell_type": "code",
   "execution_count": 17,
   "metadata": {},
   "outputs": [],
   "source": [
    "class ListaEnlazada():\n",
    "    def __init__(self):\n",
    "        self.primero = None\n",
    "        self.tamanio = 0\n",
    "    \n",
    "    def append(self, valor):\n",
    "        nodo = Node(valor)\n",
    "        if (self.tamanio == 0):\n",
    "            self.primero = nodo\n",
    "            self.tamanio += 1\n",
    "\n",
    "        else:\n",
    "            actual = self.primero\n",
    "            while (actual.next != None):     # Corta en el ultimo elemento \n",
    "                actual = actual.next\n",
    "            \n",
    "            actual.next = nodo\n",
    "            self.tamanio += 1\n",
    "        return \"Se agrego\", nodo.valor,\"con éxito !\"\n",
    "    \n",
    "    def remove(self, valor):\n",
    "        if (self.tamanio == 0):\n",
    "            return \"La lista no contiene ningun elemento !\"\n",
    "        else:\n",
    "            actual = self.primero\n",
    "            while (actual.next.valor != valor):\n",
    "                actual = actual.next\n",
    "\n",
    "            eliminado = actual.next\n",
    "            actual.next = eliminado.next\n",
    "\n",
    "            return \"Se elimino con éxito el elemento:\", eliminado, \"!\"\n",
    "\n",
    "    def __str__(self):\n",
    "        cadena = \"[\"\n",
    "        actual = self.primero\n",
    "        while (actual != None):\n",
    "            cadena += str(actual) + \", \"\n",
    "            actual = actual.next\n",
    "        cadena = cadena[:-2]\n",
    "        cadena += \"]\"\n",
    "        return cadena"
   ]
  },
  {
   "cell_type": "code",
   "execution_count": 18,
   "metadata": {},
   "outputs": [],
   "source": [
    "mi_lista = ListaEnlazada()"
   ]
  },
  {
   "cell_type": "code",
   "execution_count": 19,
   "metadata": {},
   "outputs": [
    {
     "data": {
      "text/plain": [
       "('Se agrego', 3, 'con éxito !')"
      ]
     },
     "execution_count": 19,
     "metadata": {},
     "output_type": "execute_result"
    }
   ],
   "source": [
    "mi_lista.append(1)\n",
    "mi_lista.append(-5)\n",
    "mi_lista.append(6)\n",
    "mi_lista.append(3)"
   ]
  },
  {
   "cell_type": "code",
   "execution_count": 21,
   "metadata": {},
   "outputs": [
    {
     "name": "stdout",
     "output_type": "stream",
     "text": [
      "[1, -5, 6, 3]\n",
      "[1, 6, 3]\n"
     ]
    }
   ],
   "source": [
    "print(mi_lista)\n",
    "mi_lista.remove(-5)\n",
    "print(mi_lista)"
   ]
  }
 ],
 "metadata": {
  "interpreter": {
   "hash": "2b37ca56ce9f1a7021c709e554de0d0e1270829baea03674788ca1ca911eefa8"
  },
  "kernelspec": {
   "display_name": "Python 3.10.4 64-bit (windows store)",
   "language": "python",
   "name": "python3"
  },
  "language_info": {
   "codemirror_mode": {
    "name": "ipython",
    "version": 3
   },
   "file_extension": ".py",
   "mimetype": "text/x-python",
   "name": "python",
   "nbconvert_exporter": "python",
   "pygments_lexer": "ipython3",
   "version": "3.10.4"
  },
  "orig_nbformat": 4
 },
 "nbformat": 4,
 "nbformat_minor": 2
}
